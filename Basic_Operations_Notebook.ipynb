{
 "cells": [
  {
   "cell_type": "markdown",
   "id": "delayed-stereo",
   "metadata": {},
   "source": [
    "# Basic Operations in jupyter notebook"
   ]
  },
  {
   "cell_type": "markdown",
   "id": "warming-conversion",
   "metadata": {},
   "source": [
    "#### Francisco Florido Valero 25740380-E"
   ]
  },
  {
   "cell_type": "markdown",
   "id": "strange-gamma",
   "metadata": {},
   "source": [
    "In this notebook we are going to perform some basic operations using pyspark"
   ]
  },
  {
   "cell_type": "code",
   "execution_count": 1,
   "id": "charged-company",
   "metadata": {},
   "outputs": [],
   "source": [
    "from pyspark.sql import SparkSession, functions"
   ]
  },
  {
   "cell_type": "code",
   "execution_count": 2,
   "id": "cubic-providence",
   "metadata": {},
   "outputs": [],
   "source": [
    "spark_session = SparkSession \\\n",
    "        .builder \\\n",
    "        .master(\"local[4]\") \\\n",
    "        .getOrCreate()"
   ]
  },
  {
   "cell_type": "code",
   "execution_count": 3,
   "id": "similar-windows",
   "metadata": {},
   "outputs": [],
   "source": [
    "logger = spark_session._jvm.org.apache.log4j\n",
    "logger.LogManager.getLogger(\"org\").setLevel(logger.Level.WARN)"
   ]
  },
  {
   "cell_type": "markdown",
   "id": "anticipated-reception",
   "metadata": {},
   "source": [
    "Load the data into a dataframe"
   ]
  },
  {
   "cell_type": "code",
   "execution_count": 4,
   "id": "prompt-buffalo",
   "metadata": {
    "scrolled": true
   },
   "outputs": [],
   "source": [
    "data_frame = spark_session \\\n",
    "        .read \\\n",
    "        .options(header='true', inferschema='true') \\\n",
    "        .option(\"delimiter\", \",\") \\\n",
    "        .csv(\"D:/Documentos/Master/temariomaster/p9.Spark/masterBDpy/data/simple.csv\") \\\n",
    "        .persist()"
   ]
  },
  {
   "cell_type": "markdown",
   "id": "silent-cambodia",
   "metadata": {},
   "source": [
    "Print schema and dataset to see what kind of data we have"
   ]
  },
  {
   "cell_type": "code",
   "execution_count": 5,
   "id": "excessive-convenience",
   "metadata": {},
   "outputs": [
    {
     "name": "stdout",
     "output_type": "stream",
     "text": [
      "root\n",
      " |-- Name: string (nullable = true)\n",
      " |-- Age: integer (nullable = true)\n",
      " |-- Weight: double (nullable = true)\n",
      " |-- HasACar: boolean (nullable = true)\n",
      " |-- BirthDate: string (nullable = true)\n",
      "\n",
      "+------+---+------+-------+----------+\n",
      "|  Name|Age|Weight|HasACar| BirthDate|\n",
      "+------+---+------+-------+----------+\n",
      "|  Luis| 23|  84.5|   true|2019-02-28|\n",
      "|  Lola| 42|  70.2|  false|2000-10-01|\n",
      "|  Paco| 66|  90.1|  false|1905-12-03|\n",
      "|Manolo| 68|  75.3|   true|2000-01-04|\n",
      "+------+---+------+-------+----------+\n",
      "\n"
     ]
    }
   ],
   "source": [
    "data_frame.printSchema()\n",
    "data_frame.show()"
   ]
  },
  {
   "cell_type": "code",
   "execution_count": 6,
   "id": "occupied-yellow",
   "metadata": {},
   "outputs": [
    {
     "name": "stdout",
     "output_type": "stream",
     "text": [
      "data types: [('Name', 'string'), ('Age', 'int'), ('Weight', 'double'), ('HasACar', 'boolean'), ('BirthDate', 'string')]\n"
     ]
    }
   ],
   "source": [
    "print(\"data types: \" + str(data_frame.dtypes))"
   ]
  },
  {
   "cell_type": "markdown",
   "id": "operational-stranger",
   "metadata": {},
   "source": [
    "Describe the dataframe"
   ]
  },
  {
   "cell_type": "code",
   "execution_count": 7,
   "id": "political-spring",
   "metadata": {},
   "outputs": [
    {
     "name": "stdout",
     "output_type": "stream",
     "text": [
      "+-------+----+------------------+-----------------+----------+\n",
      "|summary|Name|               Age|           Weight| BirthDate|\n",
      "+-------+----+------------------+-----------------+----------+\n",
      "|  count|   4|                 4|                4|         4|\n",
      "|   mean|null|             49.75|80.02499999999999|      null|\n",
      "| stddev|null|21.391197566600457|8.951489633947338|      null|\n",
      "|    min|Lola|                23|             70.2|1905-12-03|\n",
      "|    max|Paco|                68|             90.1|2019-02-28|\n",
      "+-------+----+------------------+-----------------+----------+\n",
      "\n"
     ]
    }
   ],
   "source": [
    "data_frame \\\n",
    "        .describe() \\\n",
    "        .show()"
   ]
  },
  {
   "cell_type": "markdown",
   "id": "awful-region",
   "metadata": {},
   "source": [
    "Explain the dataframe"
   ]
  },
  {
   "cell_type": "code",
   "execution_count": 8,
   "id": "engaged-azerbaijan",
   "metadata": {},
   "outputs": [
    {
     "name": "stdout",
     "output_type": "stream",
     "text": [
      "== Physical Plan ==\n",
      "InMemoryTableScan [Name#16, Age#17, Weight#18, HasACar#19, BirthDate#20]\n",
      "   +- InMemoryRelation [Name#16, Age#17, Weight#18, HasACar#19, BirthDate#20], StorageLevel(disk, memory, 1 replicas)\n",
      "         +- FileScan csv [Name#16,Age#17,Weight#18,HasACar#19,BirthDate#20] Batched: false, DataFilters: [], Format: CSV, Location: InMemoryFileIndex[file:/D:/Documentos/Master/temariomaster/p9.Spark/masterBDpy/data/simple.csv], PartitionFilters: [], PushedFilters: [], ReadSchema: struct<Name:string,Age:int,Weight:double,HasACar:boolean,BirthDate:string>\n",
      "\n",
      "\n"
     ]
    }
   ],
   "source": [
    "data_frame \\\n",
    "        .explain()"
   ]
  },
  {
   "cell_type": "markdown",
   "id": "spare-natural",
   "metadata": {},
   "source": [
    "Select names column in the dataframe"
   ]
  },
  {
   "cell_type": "code",
   "execution_count": 9,
   "id": "supported-variable",
   "metadata": {},
   "outputs": [
    {
     "name": "stdout",
     "output_type": "stream",
     "text": [
      "+------+\n",
      "|  Name|\n",
      "+------+\n",
      "|  Luis|\n",
      "|  Lola|\n",
      "|  Paco|\n",
      "|Manolo|\n",
      "+------+\n",
      "\n"
     ]
    }
   ],
   "source": [
    "data_frame.select(\"Name\").show()"
   ]
  },
  {
   "cell_type": "markdown",
   "id": "protective-scottish",
   "metadata": {},
   "source": [
    "Select columns name and age, but adding 2 to age"
   ]
  },
  {
   "cell_type": "code",
   "execution_count": 10,
   "id": "affected-batman",
   "metadata": {},
   "outputs": [
    {
     "name": "stdout",
     "output_type": "stream",
     "text": [
      "+------+---------+\n",
      "|  Name|(Age + 2)|\n",
      "+------+---------+\n",
      "|  Luis|       25|\n",
      "|  Lola|       44|\n",
      "|  Paco|       68|\n",
      "|Manolo|       70|\n",
      "+------+---------+\n",
      "\n"
     ]
    }
   ],
   "source": [
    "data_frame.select(\"Name\", data_frame[\"Age\"] + 2) \\\n",
    "        .show()"
   ]
  },
  {
   "cell_type": "markdown",
   "id": "quick-craps",
   "metadata": {},
   "source": [
    "Select the rows having a name length > 4"
   ]
  },
  {
   "cell_type": "code",
   "execution_count": 11,
   "id": "prescription-venezuela",
   "metadata": {},
   "outputs": [
    {
     "name": "stdout",
     "output_type": "stream",
     "text": [
      "+------------------+\n",
      "|(length(Name) > 4)|\n",
      "+------------------+\n",
      "|             false|\n",
      "|             false|\n",
      "|             false|\n",
      "|              true|\n",
      "+------------------+\n",
      "\n"
     ]
    }
   ],
   "source": [
    "data_frame.select(functions.length(data_frame[\"Name\"]) > 4).show()"
   ]
  },
  {
   "cell_type": "markdown",
   "id": "superior-bracelet",
   "metadata": {},
   "source": [
    "Select names staring with L"
   ]
  },
  {
   "cell_type": "code",
   "execution_count": 12,
   "id": "proved-kuwait",
   "metadata": {},
   "outputs": [
    {
     "name": "stdout",
     "output_type": "stream",
     "text": [
      "+------+-------------------+\n",
      "|  name|startswith(name, L)|\n",
      "+------+-------------------+\n",
      "|  Luis|               true|\n",
      "|  Lola|               true|\n",
      "|  Paco|              false|\n",
      "|Manolo|              false|\n",
      "+------+-------------------+\n",
      "\n"
     ]
    }
   ],
   "source": [
    "data_frame.select(\"name\", data_frame[\"name\"].startswith(\"L\")) \\\n",
    "        .show()"
   ]
  },
  {
   "cell_type": "markdown",
   "id": "given-jungle",
   "metadata": {},
   "source": [
    "Add a new column \"Senior\" containing true if the person age is > 45"
   ]
  },
  {
   "cell_type": "code",
   "execution_count": 13,
   "id": "silent-cardiff",
   "metadata": {},
   "outputs": [
    {
     "name": "stdout",
     "output_type": "stream",
     "text": [
      "+------+---+------+-------+----------+------+\n",
      "|  Name|Age|Weight|HasACar| BirthDate|Senior|\n",
      "+------+---+------+-------+----------+------+\n",
      "|  Luis| 23|  84.5|   true|2019-02-28| false|\n",
      "|  Lola| 42|  70.2|  false|2000-10-01| false|\n",
      "|  Paco| 66|  90.1|  false|1905-12-03|  true|\n",
      "|Manolo| 68|  75.3|   true|2000-01-04|  true|\n",
      "+------+---+------+-------+----------+------+\n",
      "\n"
     ]
    }
   ],
   "source": [
    "data_frame.withColumn(\"Senior\", data_frame[\"Age\"] > 45) \\\n",
    "        .show()"
   ]
  },
  {
   "cell_type": "markdown",
   "id": "graduate-eleven",
   "metadata": {},
   "source": [
    "Rename column HasACar as Owner"
   ]
  },
  {
   "cell_type": "code",
   "execution_count": 14,
   "id": "environmental-accuracy",
   "metadata": {},
   "outputs": [
    {
     "name": "stdout",
     "output_type": "stream",
     "text": [
      "+------+---+------+-----+----------+\n",
      "|  Name|Age|Weight|Owner| BirthDate|\n",
      "+------+---+------+-----+----------+\n",
      "|  Luis| 23|  84.5| true|2019-02-28|\n",
      "|  Lola| 42|  70.2|false|2000-10-01|\n",
      "|  Paco| 66|  90.1|false|1905-12-03|\n",
      "|Manolo| 68|  75.3| true|2000-01-04|\n",
      "+------+---+------+-----+----------+\n",
      "\n"
     ]
    }
   ],
   "source": [
    "data_frame.withColumnRenamed(\"HasACar\", \"Owner\") \\\n",
    "        .show()"
   ]
  },
  {
   "cell_type": "markdown",
   "id": "otherwise-insulation",
   "metadata": {},
   "source": [
    "Remove column DateBirth"
   ]
  },
  {
   "cell_type": "code",
   "execution_count": 15,
   "id": "structural-ceramic",
   "metadata": {},
   "outputs": [
    {
     "name": "stdout",
     "output_type": "stream",
     "text": [
      "+------+---+------+-------+\n",
      "|  Name|Age|Weight|HasACar|\n",
      "+------+---+------+-------+\n",
      "|  Luis| 23|  84.5|   true|\n",
      "|  Lola| 42|  70.2|  false|\n",
      "|  Paco| 66|  90.1|  false|\n",
      "|Manolo| 68|  75.3|   true|\n",
      "+------+---+------+-------+\n",
      "\n"
     ]
    }
   ],
   "source": [
    "data_frame.drop(\"BirthDate\") \\\n",
    "        .show()"
   ]
  },
  {
   "cell_type": "markdown",
   "id": "willing-thanksgiving",
   "metadata": {},
   "source": [
    "Sort by age method 1"
   ]
  },
  {
   "cell_type": "code",
   "execution_count": 16,
   "id": "sustained-tucson",
   "metadata": {},
   "outputs": [
    {
     "name": "stdout",
     "output_type": "stream",
     "text": [
      "+------+---+------+-------+----------+\n",
      "|  Name|Age|Weight|HasACar| BirthDate|\n",
      "+------+---+------+-------+----------+\n",
      "|Manolo| 68|  75.3|   true|2000-01-04|\n",
      "|  Paco| 66|  90.1|  false|1905-12-03|\n",
      "|  Lola| 42|  70.2|  false|2000-10-01|\n",
      "|  Luis| 23|  84.5|   true|2019-02-28|\n",
      "+------+---+------+-------+----------+\n",
      "\n"
     ]
    }
   ],
   "source": [
    "data_frame.sort(data_frame.Age.desc()).show()"
   ]
  },
  {
   "cell_type": "markdown",
   "id": "designing-archive",
   "metadata": {},
   "source": [
    "Sort by age method 2"
   ]
  },
  {
   "cell_type": "code",
   "execution_count": 17,
   "id": "offshore-aspect",
   "metadata": {},
   "outputs": [
    {
     "name": "stdout",
     "output_type": "stream",
     "text": [
      "+------+---+------+-------+----------+\n",
      "|  Name|Age|Weight|HasACar| BirthDate|\n",
      "+------+---+------+-------+----------+\n",
      "|Manolo| 68|  75.3|   true|2000-01-04|\n",
      "|  Paco| 66|  90.1|  false|1905-12-03|\n",
      "|  Lola| 42|  70.2|  false|2000-10-01|\n",
      "|  Luis| 23|  84.5|   true|2019-02-28|\n",
      "+------+---+------+-------+----------+\n",
      "\n"
     ]
    }
   ],
   "source": [
    "data_frame.sort(\"Age\", ascending=False).show()"
   ]
  },
  {
   "cell_type": "markdown",
   "id": "warming-spectacular",
   "metadata": {},
   "source": [
    "Sort by age and if the age descendent and if it coincides by wieght ascending "
   ]
  },
  {
   "cell_type": "code",
   "execution_count": 18,
   "id": "unauthorized-literature",
   "metadata": {},
   "outputs": [
    {
     "name": "stdout",
     "output_type": "stream",
     "text": [
      "+------+---+------+-------+----------+\n",
      "|  Name|Age|Weight|HasACar| BirthDate|\n",
      "+------+---+------+-------+----------+\n",
      "|Manolo| 68|  75.3|   true|2000-01-04|\n",
      "|  Paco| 66|  90.1|  false|1905-12-03|\n",
      "|  Lola| 42|  70.2|  false|2000-10-01|\n",
      "|  Luis| 23|  84.5|   true|2019-02-28|\n",
      "+------+---+------+-------+----------+\n",
      "\n"
     ]
    }
   ],
   "source": [
    "data_frame.orderBy([\"Age\", \"Weight\"], ascending=[0, 1]).show()"
   ]
  },
  {
   "cell_type": "markdown",
   "id": "present-fundamentals",
   "metadata": {},
   "source": [
    "Get a RDD"
   ]
  },
  {
   "cell_type": "code",
   "execution_count": 19,
   "id": "alien-survival",
   "metadata": {},
   "outputs": [],
   "source": [
    "rdd_from_dataframe = data_frame \\\n",
    "        .rdd \\\n",
    "        .persist()"
   ]
  },
  {
   "cell_type": "code",
   "execution_count": 20,
   "id": "checked-manual",
   "metadata": {},
   "outputs": [
    {
     "name": "stdout",
     "output_type": "stream",
     "text": [
      "Row(Name='Luis', Age=23, Weight=84.5, HasACar=True, BirthDate='2019-02-28')\n",
      "Row(Name='Lola', Age=42, Weight=70.2, HasACar=False, BirthDate='2000-10-01')\n",
      "Row(Name='Paco', Age=66, Weight=90.1, HasACar=False, BirthDate='1905-12-03')\n",
      "Row(Name='Manolo', Age=68, Weight=75.3, HasACar=True, BirthDate='2000-01-04')\n"
     ]
    }
   ],
   "source": [
    "    for i in rdd_from_dataframe.collect():\n",
    "        print(i)"
   ]
  },
  {
   "cell_type": "markdown",
   "id": "referenced-entity",
   "metadata": {},
   "source": [
    "Sum all the weights in RDD"
   ]
  },
  {
   "cell_type": "code",
   "execution_count": 21,
   "id": "single-little",
   "metadata": {},
   "outputs": [
    {
     "name": "stdout",
     "output_type": "stream",
     "text": [
      "Sum of weights (RDDs): 320.09999999999997\n"
     ]
    }
   ],
   "source": [
    "sum_of_weights = rdd_from_dataframe \\\n",
    "        .map(lambda row: row[2]) \\\n",
    "        .reduce(lambda x, y: x + y)  # sum()\n",
    "print(\"Sum of weights (RDDs): \" + str(sum_of_weights))"
   ]
  },
  {
   "cell_type": "markdown",
   "id": "planned-excitement",
   "metadata": {},
   "source": [
    "Sum all the weights in dataframe"
   ]
  },
  {
   "cell_type": "code",
   "execution_count": 22,
   "id": "understood-cache",
   "metadata": {},
   "outputs": [],
   "source": [
    "weights = data_frame \\\n",
    "        .select(\"Weight\") \\\n",
    "        .groupBy() \\\n",
    "        .sum() \\\n",
    "        .collect()"
   ]
  },
  {
   "cell_type": "code",
   "execution_count": 23,
   "id": "genuine-eugene",
   "metadata": {},
   "outputs": [
    {
     "name": "stdout",
     "output_type": "stream",
     "text": [
      "[Row(sum(Weight)=320.09999999999997)]\n",
      "Sum of weights (dataframe): 320.09999999999997\n"
     ]
    }
   ],
   "source": [
    "print(weights)\n",
    "print(\"Sum of weights (dataframe): \" + str(weights[0][0]))"
   ]
  },
  {
   "cell_type": "code",
   "execution_count": 28,
   "id": "threatened-venice",
   "metadata": {},
   "outputs": [
    {
     "name": "stdout",
     "output_type": "stream",
     "text": [
      "+------------------+\n",
      "|       sum(Weight)|\n",
      "+------------------+\n",
      "|320.09999999999997|\n",
      "+------------------+\n",
      "\n",
      "+------------------+\n",
      "|       sum(Weight)|\n",
      "+------------------+\n",
      "|320.09999999999997|\n",
      "+------------------+\n",
      "\n"
     ]
    }
   ],
   "source": [
    "data_frame.select(functions.sum(data_frame[\"Weight\"])).show()\n",
    "data_frame.agg({\"Weight\": \"sum\"}).show()"
   ]
  },
  {
   "cell_type": "markdown",
   "id": "hundred-bench",
   "metadata": {},
   "source": [
    "Get the mean age (RDD)"
   ]
  },
  {
   "cell_type": "code",
   "execution_count": 24,
   "id": "innovative-security",
   "metadata": {},
   "outputs": [],
   "source": [
    "total_age = rdd_from_dataframe \\\n",
    "        .map(lambda row: row[1]) \\\n",
    "        .reduce(lambda x, y: x + y)"
   ]
  },
  {
   "cell_type": "code",
   "execution_count": 25,
   "id": "typical-mountain",
   "metadata": {},
   "outputs": [],
   "source": [
    "mean_age = total_age / rdd_from_dataframe.count()"
   ]
  },
  {
   "cell_type": "code",
   "execution_count": 26,
   "id": "ruled-stephen",
   "metadata": {},
   "outputs": [
    {
     "name": "stdout",
     "output_type": "stream",
     "text": [
      "Mean age (RDDs): 49.75\n"
     ]
    }
   ],
   "source": [
    "print(\"Mean age (RDDs): \" + str(mean_age))"
   ]
  },
  {
   "cell_type": "markdown",
   "id": "prime-spiritual",
   "metadata": {},
   "source": [
    "Get the mean weight (dataframe)"
   ]
  },
  {
   "cell_type": "code",
   "execution_count": 27,
   "id": "functioning-martin",
   "metadata": {},
   "outputs": [
    {
     "name": "stdout",
     "output_type": "stream",
     "text": [
      "+-----------------+\n",
      "|          Average|\n",
      "+-----------------+\n",
      "|80.02499999999999|\n",
      "+-----------------+\n",
      "\n"
     ]
    }
   ],
   "source": [
    "data_frame.select(functions.avg(data_frame[\"Weight\"])) \\\n",
    "        .withColumnRenamed(\"avg(Weight)\", \"Average\") \\\n",
    "        .show()"
   ]
  },
  {
   "cell_type": "code",
   "execution_count": 28,
   "id": "earlier-taxation",
   "metadata": {},
   "outputs": [
    {
     "name": "stdout",
     "output_type": "stream",
     "text": [
      "+-----------------+\n",
      "|      avg(Weight)|\n",
      "+-----------------+\n",
      "|80.02499999999999|\n",
      "+-----------------+\n",
      "\n"
     ]
    }
   ],
   "source": [
    "data_frame.agg({\"Weight\": \"avg\"}).show()"
   ]
  },
  {
   "cell_type": "markdown",
   "id": "right-worry",
   "metadata": {},
   "source": [
    "Write to a json file"
   ]
  },
  {
   "cell_type": "code",
   "execution_count": null,
   "id": "massive-tribune",
   "metadata": {},
   "outputs": [],
   "source": [
    "data_frame\\\n",
    "        .write\\\n",
    "        .save(\"output.json\", format=\"json\")"
   ]
  },
  {
   "cell_type": "markdown",
   "id": "eleven-calcium",
   "metadata": {},
   "source": [
    "Write to a CSV file"
   ]
  },
  {
   "cell_type": "code",
   "execution_count": null,
   "id": "cardiovascular-significance",
   "metadata": {},
   "outputs": [],
   "source": [
    "data_frame\\\n",
    "        .write\\\n",
    "        .format(\"csv\")\\\n",
    "        .save(\"output.csv\")"
   ]
  }
 ],
 "metadata": {
  "kernelspec": {
   "display_name": "Python 3",
   "language": "python",
   "name": "python3"
  },
  "language_info": {
   "codemirror_mode": {
    "name": "ipython",
    "version": 3
   },
   "file_extension": ".py",
   "mimetype": "text/x-python",
   "name": "python",
   "nbconvert_exporter": "python",
   "pygments_lexer": "ipython3",
   "version": "3.9.2"
  }
 },
 "nbformat": 4,
 "nbformat_minor": 5
}
